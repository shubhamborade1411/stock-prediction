{
 "cells": [
  {
   "cell_type": "code",
   "execution_count": 2,
   "id": "fd5e84bd",
   "metadata": {},
   "outputs": [],
   "source": [
    "import pandas_datareader as pdr"
   ]
  },
  {
   "cell_type": "code",
   "execution_count": 3,
   "id": "888b94bb",
   "metadata": {},
   "outputs": [],
   "source": [
    "key = \"fc7ac86a44d2346062fddd2f060ca6110b3cc3e1\""
   ]
  },
  {
   "cell_type": "code",
   "execution_count": 4,
   "id": "e347dd10",
   "metadata": {},
   "outputs": [],
   "source": [
    "df = pdr.get_data_tiingo('MSFT',api_key=key)"
   ]
  },
  {
   "cell_type": "code",
   "execution_count": 5,
   "id": "8909d61b",
   "metadata": {},
   "outputs": [],
   "source": [
    "df.to_csv('MSFT.csv')"
   ]
  },
  {
   "cell_type": "code",
   "execution_count": 6,
   "id": "b5d52254",
   "metadata": {},
   "outputs": [
    {
     "data": {
      "text/html": [
       "<div>\n",
       "<style scoped>\n",
       "    .dataframe tbody tr th:only-of-type {\n",
       "        vertical-align: middle;\n",
       "    }\n",
       "\n",
       "    .dataframe tbody tr th {\n",
       "        vertical-align: top;\n",
       "    }\n",
       "\n",
       "    .dataframe thead th {\n",
       "        text-align: right;\n",
       "    }\n",
       "</style>\n",
       "<table border=\"1\" class=\"dataframe\">\n",
       "  <thead>\n",
       "    <tr style=\"text-align: right;\">\n",
       "      <th></th>\n",
       "      <th></th>\n",
       "      <th>close</th>\n",
       "      <th>high</th>\n",
       "      <th>low</th>\n",
       "      <th>open</th>\n",
       "      <th>volume</th>\n",
       "      <th>adjClose</th>\n",
       "      <th>adjHigh</th>\n",
       "      <th>adjLow</th>\n",
       "      <th>adjOpen</th>\n",
       "      <th>adjVolume</th>\n",
       "      <th>divCash</th>\n",
       "      <th>splitFactor</th>\n",
       "    </tr>\n",
       "    <tr>\n",
       "      <th>symbol</th>\n",
       "      <th>date</th>\n",
       "      <th></th>\n",
       "      <th></th>\n",
       "      <th></th>\n",
       "      <th></th>\n",
       "      <th></th>\n",
       "      <th></th>\n",
       "      <th></th>\n",
       "      <th></th>\n",
       "      <th></th>\n",
       "      <th></th>\n",
       "      <th></th>\n",
       "      <th></th>\n",
       "    </tr>\n",
       "  </thead>\n",
       "  <tbody>\n",
       "    <tr>\n",
       "      <th rowspan=\"5\" valign=\"top\">MSFT</th>\n",
       "      <th>2017-11-13 00:00:00+00:00</th>\n",
       "      <td>83.93</td>\n",
       "      <td>83.94</td>\n",
       "      <td>83.46</td>\n",
       "      <td>83.66</td>\n",
       "      <td>14080820</td>\n",
       "      <td>78.843708</td>\n",
       "      <td>78.853102</td>\n",
       "      <td>78.402191</td>\n",
       "      <td>78.590070</td>\n",
       "      <td>14080820</td>\n",
       "      <td>0.00</td>\n",
       "      <td>1.0</td>\n",
       "    </tr>\n",
       "    <tr>\n",
       "      <th>2017-11-14 00:00:00+00:00</th>\n",
       "      <td>84.05</td>\n",
       "      <td>84.10</td>\n",
       "      <td>82.98</td>\n",
       "      <td>83.50</td>\n",
       "      <td>18604034</td>\n",
       "      <td>78.956436</td>\n",
       "      <td>79.003406</td>\n",
       "      <td>77.951280</td>\n",
       "      <td>78.439767</td>\n",
       "      <td>18604034</td>\n",
       "      <td>0.00</td>\n",
       "      <td>1.0</td>\n",
       "    </tr>\n",
       "    <tr>\n",
       "      <th>2017-11-15 00:00:00+00:00</th>\n",
       "      <td>82.98</td>\n",
       "      <td>83.69</td>\n",
       "      <td>82.69</td>\n",
       "      <td>83.47</td>\n",
       "      <td>19097333</td>\n",
       "      <td>78.345827</td>\n",
       "      <td>79.016176</td>\n",
       "      <td>78.072022</td>\n",
       "      <td>78.808462</td>\n",
       "      <td>19097333</td>\n",
       "      <td>0.42</td>\n",
       "      <td>1.0</td>\n",
       "    </tr>\n",
       "    <tr>\n",
       "      <th>2017-11-16 00:00:00+00:00</th>\n",
       "      <td>83.20</td>\n",
       "      <td>83.42</td>\n",
       "      <td>82.94</td>\n",
       "      <td>83.10</td>\n",
       "      <td>20659209</td>\n",
       "      <td>78.553541</td>\n",
       "      <td>78.761254</td>\n",
       "      <td>78.308061</td>\n",
       "      <td>78.459125</td>\n",
       "      <td>20659209</td>\n",
       "      <td>0.00</td>\n",
       "      <td>1.0</td>\n",
       "    </tr>\n",
       "    <tr>\n",
       "      <th>2017-11-17 00:00:00+00:00</th>\n",
       "      <td>82.40</td>\n",
       "      <td>83.12</td>\n",
       "      <td>82.24</td>\n",
       "      <td>83.12</td>\n",
       "      <td>21715498</td>\n",
       "      <td>77.798218</td>\n",
       "      <td>78.478008</td>\n",
       "      <td>77.647154</td>\n",
       "      <td>78.478008</td>\n",
       "      <td>21715498</td>\n",
       "      <td>0.00</td>\n",
       "      <td>1.0</td>\n",
       "    </tr>\n",
       "  </tbody>\n",
       "</table>\n",
       "</div>"
      ],
      "text/plain": [
       "                                  close   high    low   open    volume  \\\n",
       "symbol date                                                              \n",
       "MSFT   2017-11-13 00:00:00+00:00  83.93  83.94  83.46  83.66  14080820   \n",
       "       2017-11-14 00:00:00+00:00  84.05  84.10  82.98  83.50  18604034   \n",
       "       2017-11-15 00:00:00+00:00  82.98  83.69  82.69  83.47  19097333   \n",
       "       2017-11-16 00:00:00+00:00  83.20  83.42  82.94  83.10  20659209   \n",
       "       2017-11-17 00:00:00+00:00  82.40  83.12  82.24  83.12  21715498   \n",
       "\n",
       "                                   adjClose    adjHigh     adjLow    adjOpen  \\\n",
       "symbol date                                                                    \n",
       "MSFT   2017-11-13 00:00:00+00:00  78.843708  78.853102  78.402191  78.590070   \n",
       "       2017-11-14 00:00:00+00:00  78.956436  79.003406  77.951280  78.439767   \n",
       "       2017-11-15 00:00:00+00:00  78.345827  79.016176  78.072022  78.808462   \n",
       "       2017-11-16 00:00:00+00:00  78.553541  78.761254  78.308061  78.459125   \n",
       "       2017-11-17 00:00:00+00:00  77.798218  78.478008  77.647154  78.478008   \n",
       "\n",
       "                                  adjVolume  divCash  splitFactor  \n",
       "symbol date                                                        \n",
       "MSFT   2017-11-13 00:00:00+00:00   14080820     0.00          1.0  \n",
       "       2017-11-14 00:00:00+00:00   18604034     0.00          1.0  \n",
       "       2017-11-15 00:00:00+00:00   19097333     0.42          1.0  \n",
       "       2017-11-16 00:00:00+00:00   20659209     0.00          1.0  \n",
       "       2017-11-17 00:00:00+00:00   21715498     0.00          1.0  "
      ]
     },
     "execution_count": 6,
     "metadata": {},
     "output_type": "execute_result"
    }
   ],
   "source": [
    "df.head()"
   ]
  },
  {
   "cell_type": "code",
   "execution_count": 6,
   "id": "89b28c5b",
   "metadata": {},
   "outputs": [
    {
     "data": {
      "text/html": [
       "<div>\n",
       "<style scoped>\n",
       "    .dataframe tbody tr th:only-of-type {\n",
       "        vertical-align: middle;\n",
       "    }\n",
       "\n",
       "    .dataframe tbody tr th {\n",
       "        vertical-align: top;\n",
       "    }\n",
       "\n",
       "    .dataframe thead th {\n",
       "        text-align: right;\n",
       "    }\n",
       "</style>\n",
       "<table border=\"1\" class=\"dataframe\">\n",
       "  <thead>\n",
       "    <tr style=\"text-align: right;\">\n",
       "      <th></th>\n",
       "      <th></th>\n",
       "      <th>close</th>\n",
       "      <th>high</th>\n",
       "      <th>low</th>\n",
       "      <th>open</th>\n",
       "      <th>volume</th>\n",
       "      <th>adjClose</th>\n",
       "      <th>adjHigh</th>\n",
       "      <th>adjLow</th>\n",
       "      <th>adjOpen</th>\n",
       "      <th>adjVolume</th>\n",
       "      <th>divCash</th>\n",
       "      <th>splitFactor</th>\n",
       "    </tr>\n",
       "    <tr>\n",
       "      <th>symbol</th>\n",
       "      <th>date</th>\n",
       "      <th></th>\n",
       "      <th></th>\n",
       "      <th></th>\n",
       "      <th></th>\n",
       "      <th></th>\n",
       "      <th></th>\n",
       "      <th></th>\n",
       "      <th></th>\n",
       "      <th></th>\n",
       "      <th></th>\n",
       "      <th></th>\n",
       "      <th></th>\n",
       "    </tr>\n",
       "  </thead>\n",
       "  <tbody>\n",
       "    <tr>\n",
       "      <th rowspan=\"5\" valign=\"top\">MSFT</th>\n",
       "      <th>2022-08-23 00:00:00+00:00</th>\n",
       "      <td>276.44</td>\n",
       "      <td>278.86</td>\n",
       "      <td>275.40</td>\n",
       "      <td>276.44</td>\n",
       "      <td>17527409</td>\n",
       "      <td>276.44</td>\n",
       "      <td>278.86</td>\n",
       "      <td>275.40</td>\n",
       "      <td>276.44</td>\n",
       "      <td>17527409</td>\n",
       "      <td>0.0</td>\n",
       "      <td>1.0</td>\n",
       "    </tr>\n",
       "    <tr>\n",
       "      <th>2022-08-24 00:00:00+00:00</th>\n",
       "      <td>275.79</td>\n",
       "      <td>277.23</td>\n",
       "      <td>275.11</td>\n",
       "      <td>275.41</td>\n",
       "      <td>18137019</td>\n",
       "      <td>275.79</td>\n",
       "      <td>277.23</td>\n",
       "      <td>275.11</td>\n",
       "      <td>275.41</td>\n",
       "      <td>18137019</td>\n",
       "      <td>0.0</td>\n",
       "      <td>1.0</td>\n",
       "    </tr>\n",
       "    <tr>\n",
       "      <th>2022-08-25 00:00:00+00:00</th>\n",
       "      <td>278.85</td>\n",
       "      <td>279.02</td>\n",
       "      <td>274.52</td>\n",
       "      <td>277.33</td>\n",
       "      <td>16583407</td>\n",
       "      <td>278.85</td>\n",
       "      <td>279.02</td>\n",
       "      <td>274.52</td>\n",
       "      <td>277.33</td>\n",
       "      <td>16583407</td>\n",
       "      <td>0.0</td>\n",
       "      <td>1.0</td>\n",
       "    </tr>\n",
       "    <tr>\n",
       "      <th>2022-08-26 00:00:00+00:00</th>\n",
       "      <td>268.09</td>\n",
       "      <td>280.34</td>\n",
       "      <td>267.98</td>\n",
       "      <td>279.08</td>\n",
       "      <td>27549307</td>\n",
       "      <td>268.09</td>\n",
       "      <td>280.34</td>\n",
       "      <td>267.98</td>\n",
       "      <td>279.08</td>\n",
       "      <td>27549307</td>\n",
       "      <td>0.0</td>\n",
       "      <td>1.0</td>\n",
       "    </tr>\n",
       "    <tr>\n",
       "      <th>2022-08-29 00:00:00+00:00</th>\n",
       "      <td>265.23</td>\n",
       "      <td>267.40</td>\n",
       "      <td>263.85</td>\n",
       "      <td>265.85</td>\n",
       "      <td>20121371</td>\n",
       "      <td>265.23</td>\n",
       "      <td>267.40</td>\n",
       "      <td>263.85</td>\n",
       "      <td>265.85</td>\n",
       "      <td>20121371</td>\n",
       "      <td>0.0</td>\n",
       "      <td>1.0</td>\n",
       "    </tr>\n",
       "  </tbody>\n",
       "</table>\n",
       "</div>"
      ],
      "text/plain": [
       "                                   close    high     low    open    volume  \\\n",
       "symbol date                                                                  \n",
       "MSFT   2022-08-23 00:00:00+00:00  276.44  278.86  275.40  276.44  17527409   \n",
       "       2022-08-24 00:00:00+00:00  275.79  277.23  275.11  275.41  18137019   \n",
       "       2022-08-25 00:00:00+00:00  278.85  279.02  274.52  277.33  16583407   \n",
       "       2022-08-26 00:00:00+00:00  268.09  280.34  267.98  279.08  27549307   \n",
       "       2022-08-29 00:00:00+00:00  265.23  267.40  263.85  265.85  20121371   \n",
       "\n",
       "                                  adjClose  adjHigh  adjLow  adjOpen  \\\n",
       "symbol date                                                            \n",
       "MSFT   2022-08-23 00:00:00+00:00    276.44   278.86  275.40   276.44   \n",
       "       2022-08-24 00:00:00+00:00    275.79   277.23  275.11   275.41   \n",
       "       2022-08-25 00:00:00+00:00    278.85   279.02  274.52   277.33   \n",
       "       2022-08-26 00:00:00+00:00    268.09   280.34  267.98   279.08   \n",
       "       2022-08-29 00:00:00+00:00    265.23   267.40  263.85   265.85   \n",
       "\n",
       "                                  adjVolume  divCash  splitFactor  \n",
       "symbol date                                                        \n",
       "MSFT   2022-08-23 00:00:00+00:00   17527409      0.0          1.0  \n",
       "       2022-08-24 00:00:00+00:00   18137019      0.0          1.0  \n",
       "       2022-08-25 00:00:00+00:00   16583407      0.0          1.0  \n",
       "       2022-08-26 00:00:00+00:00   27549307      0.0          1.0  \n",
       "       2022-08-29 00:00:00+00:00   20121371      0.0          1.0  "
      ]
     },
     "execution_count": 6,
     "metadata": {},
     "output_type": "execute_result"
    }
   ],
   "source": [
    "df.tail()"
   ]
  },
  {
   "cell_type": "code",
   "execution_count": 7,
   "id": "4cabb557",
   "metadata": {},
   "outputs": [
    {
     "data": {
      "text/plain": [
       "0        74.77\n",
       "1        73.94\n",
       "2        73.61\n",
       "3        73.40\n",
       "4        74.34\n",
       "         ...  \n",
       "1252    276.44\n",
       "1253    275.79\n",
       "1254    278.85\n",
       "1255    268.09\n",
       "1256    265.23\n",
       "Name: close, Length: 1257, dtype: float64"
      ]
     },
     "execution_count": 7,
     "metadata": {},
     "output_type": "execute_result"
    }
   ],
   "source": [
    "df1=df.reset_index()['close']\n",
    "df1"
   ]
  },
  {
   "cell_type": "code",
   "execution_count": 11,
   "id": "e17f3e09",
   "metadata": {},
   "outputs": [
    {
     "data": {
      "text/plain": [
       "[<matplotlib.lines.Line2D at 0x1edacfedbe0>]"
      ]
     },
     "execution_count": 11,
     "metadata": {},
     "output_type": "execute_result"
    },
    {
     "data": {
      "image/png": "[encoded data removed]",
      "text/plain": [
       "<Figure size 432x288 with 1 Axes>"
      ]
     },
     "metadata": {
      "needs_background": "light"
     },
     "output_type": "display_data"
    }
   ],
   "source": [
    "import matplotlib.pyplot as plt\n",
    "plt.plot(df1)"
   ]
  },
  {
   "cell_type": "code",
   "execution_count": 25,
   "id": "8532feb5",
   "metadata": {},
   "outputs": [],
   "source": [
    "import numpy as np\n",
    "from sklearn.preprocessing import MinMaxScaler\n",
    "scaler = MinMaxScaler(feature_range=(0,1))\n",
    "df1=scaler.fit_transform(np.array(df1).reshape(-1,1))"
   ]
  },
  {
   "cell_type": "code",
   "execution_count": 26,
   "id": "c5044ac2",
   "metadata": {},
   "outputs": [
    {
     "data": {
      "text/plain": [
       "array([[0.0055957 ],\n",
       "       [0.00251992],\n",
       "       [0.00129702],\n",
       "       ...,\n",
       "       [0.7618677 ],\n",
       "       [0.7219937 ],\n",
       "       [0.71139522]])"
      ]
     },
     "execution_count": 26,
     "metadata": {},
     "output_type": "execute_result"
    }
   ],
   "source": [
    "df1"
   ]
  },
  {
   "cell_type": "code",
   "execution_count": 27,
   "id": "6ca97e4f",
   "metadata": {},
   "outputs": [
    {
     "data": {
      "text/plain": [
       "(879, 378)"
      ]
     },
     "execution_count": 27,
     "metadata": {},
     "output_type": "execute_result"
    }
   ],
   "source": [
    "training_size=int(len(df1)*0.70)\n",
    "test_size=len(df1)-training_size\n",
    "train_data,test_data=df1[0:training_size,:],df1[training_size:len(df1),:1]\n",
    "training_size,test_size"
   ]
  },
  {
   "cell_type": "code",
   "execution_count": 28,
   "id": "f2d136f0",
   "metadata": {},
   "outputs": [],
   "source": [
    "import numpy as np\n",
    "def create_dataset(dataset,time_step=1):\n",
    "    datax,datay=[], []\n",
    "    for i in range(len(dataset)-time_step-1):\n",
    "        a=dataset[i:(i+time_step),0]\n",
    "        datax.append(a)\n",
    "        datay.append(dataset[i+time_step,0])\n",
    "    return np.array(datax), np.array(datay)"
   ]
  },
  {
   "cell_type": "code",
   "execution_count": 29,
   "id": "121b9bb5",
   "metadata": {},
   "outputs": [],
   "source": [
    "time_step=100\n",
    "x_train,y_train = create_dataset(train_data, time_step)\n",
    "x_test,y_test = create_dataset(test_data, time_step)"
   ]
  },
  {
   "cell_type": "code",
   "execution_count": 30,
   "id": "cfff92b7",
   "metadata": {},
   "outputs": [
    {
     "name": "stdout",
     "output_type": "stream",
     "text": [
      "(778, 100)\n",
      "(778,)\n"
     ]
    },
    {
     "data": {
      "text/plain": [
       "(None, None)"
      ]
     },
     "execution_count": 30,
     "metadata": {},
     "output_type": "execute_result"
    }
   ],
   "source": [
    "print(x_train.shape),print(y_train.shape)"
   ]
  },
  {
   "cell_type": "code",
   "execution_count": 31,
   "id": "afc9fb71",
   "metadata": {},
   "outputs": [
    {
     "name": "stdout",
     "output_type": "stream",
     "text": [
      "(277, 100)\n",
      "(277,)\n"
     ]
    },
    {
     "data": {
      "text/plain": [
       "(None, None)"
      ]
     },
     "execution_count": 31,
     "metadata": {},
     "output_type": "execute_result"
    }
   ],
   "source": [
    "print(x_test.shape),print(y_test.shape)"
   ]
  },
  {
   "cell_type": "code",
   "execution_count": 32,
   "id": "d9dbb8c5",
   "metadata": {},
   "outputs": [],
   "source": [
    "#creating stacked lstm model\n",
    "#lstm requires data in 3 dimensions so\n",
    "x_train=x_train.reshape(x_train.shape[0],x_train.shape[1], 1)\n",
    "x_test=x_test.reshape(x_test.shape[0],x_test.shape[1], 1)"
   ]
  },
  {
   "cell_type": "code",
   "execution_count": 33,
   "id": "dfd5fc3a",
   "metadata": {},
   "outputs": [],
   "source": [
    "from tensorflow.keras.models import Sequential\n",
    "from tensorflow.keras.layers import Dense\n",
    "from tensorflow.keras.layers import LSTM"
   ]
  },
  {
   "cell_type": "code",
   "execution_count": 34,
   "id": "d287904d",
   "metadata": {},
   "outputs": [],
   "source": [
    "model= Sequential()\n",
    "model.add(LSTM(50,return_sequences=True,input_shape=(100,1)))\n",
    "model.add(LSTM(50,return_sequences=True))\n",
    "model.add(LSTM(50))\n",
    "model.add(Dense(1))\n",
    "model.compile(loss='mean_squared_error',optimizer='adam')"
   ]
  },
  {
   "cell_type": "code",
   "execution_count": 35,
   "id": "57f0d984",
   "metadata": {},
   "outputs": [
    {
     "name": "stdout",
     "output_type": "stream",
     "text": [
      "Epoch 1/100\n",
      "13/13 [==============================] - 6s 186ms/step - loss: 0.0249 - val_loss: 0.0895\n",
      "Epoch 2/100\n",
      "13/13 [==============================] - 2s 120ms/step - loss: 0.0042 - val_loss: 0.0043\n",
      "Epoch 3/100\n",
      "13/13 [==============================] - 1s 113ms/step - loss: 0.0011 - val_loss: 0.0075\n",
      "Epoch 4/100\n",
      "13/13 [==============================] - 1s 108ms/step - loss: 8.2320e-04 - val_loss: 0.0025\n",
      "Epoch 5/100\n",
      "13/13 [==============================] - 1s 111ms/step - loss: 6.0993e-04 - val_loss: 0.0030\n",
      "Epoch 6/100\n",
      "13/13 [==============================] - 1s 113ms/step - loss: 6.1870e-04 - val_loss: 0.0026\n",
      "Epoch 7/100\n",
      "13/13 [==============================] - 1s 113ms/step - loss: 6.0162e-04 - val_loss: 0.0029\n",
      "Epoch 8/100\n",
      "13/13 [==============================] - 2s 118ms/step - loss: 6.1417e-04 - val_loss: 0.0032\n",
      "Epoch 9/100\n",
      "13/13 [==============================] - 2s 121ms/step - loss: 5.9508e-04 - val_loss: 0.0035\n",
      "Epoch 10/100\n",
      "13/13 [==============================] - 2s 117ms/step - loss: 6.0911e-04 - val_loss: 0.0036\n",
      "Epoch 11/100\n",
      "13/13 [==============================] - 2s 127ms/step - loss: 5.8029e-04 - val_loss: 0.0025\n",
      "Epoch 12/100\n",
      "13/13 [==============================] - 2s 116ms/step - loss: 5.7989e-04 - val_loss: 0.0027\n",
      "Epoch 13/100\n",
      "13/13 [==============================] - 1s 112ms/step - loss: 5.9119e-04 - val_loss: 0.0024\n",
      "Epoch 14/100\n",
      "13/13 [==============================] - 1s 110ms/step - loss: 6.0363e-04 - val_loss: 0.0039\n",
      "Epoch 15/100\n",
      "13/13 [==============================] - 1s 108ms/step - loss: 6.2085e-04 - val_loss: 0.0042\n",
      "Epoch 16/100\n",
      "13/13 [==============================] - 1s 111ms/step - loss: 6.0144e-04 - val_loss: 0.0024\n",
      "Epoch 17/100\n",
      "13/13 [==============================] - 1s 109ms/step - loss: 6.2898e-04 - val_loss: 0.0031\n",
      "Epoch 18/100\n",
      "13/13 [==============================] - 1s 107ms/step - loss: 6.1077e-04 - val_loss: 0.0042\n",
      "Epoch 19/100\n",
      "13/13 [==============================] - 1s 110ms/step - loss: 5.7017e-04 - val_loss: 0.0034\n",
      "Epoch 20/100\n",
      "13/13 [==============================] - 1s 108ms/step - loss: 5.8272e-04 - val_loss: 0.0024\n",
      "Epoch 21/100\n",
      "13/13 [==============================] - 1s 112ms/step - loss: 5.5577e-04 - val_loss: 0.0036\n",
      "Epoch 22/100\n",
      "13/13 [==============================] - 1s 112ms/step - loss: 5.6986e-04 - val_loss: 0.0025\n",
      "Epoch 23/100\n",
      "13/13 [==============================] - 1s 112ms/step - loss: 6.0075e-04 - val_loss: 0.0025\n",
      "Epoch 24/100\n",
      "13/13 [==============================] - 2s 120ms/step - loss: 5.5657e-04 - val_loss: 0.0027\n",
      "Epoch 25/100\n",
      "13/13 [==============================] - 2s 115ms/step - loss: 5.4039e-04 - val_loss: 0.0025\n",
      "Epoch 26/100\n",
      "13/13 [==============================] - 2s 114ms/step - loss: 5.5836e-04 - val_loss: 0.0022\n",
      "Epoch 27/100\n",
      "13/13 [==============================] - 2s 118ms/step - loss: 5.2313e-04 - val_loss: 0.0044\n",
      "Epoch 28/100\n",
      "13/13 [==============================] - 2s 138ms/step - loss: 5.9436e-04 - val_loss: 0.0027\n",
      "Epoch 29/100\n",
      "13/13 [==============================] - 1s 115ms/step - loss: 5.2627e-04 - val_loss: 0.0023\n",
      "Epoch 30/100\n",
      "13/13 [==============================] - 2s 117ms/step - loss: 5.1220e-04 - val_loss: 0.0026\n",
      "Epoch 31/100\n",
      "13/13 [==============================] - 2s 121ms/step - loss: 5.2933e-04 - val_loss: 0.0020\n",
      "Epoch 32/100\n",
      "13/13 [==============================] - 2s 111ms/step - loss: 5.5714e-04 - val_loss: 0.0033\n",
      "Epoch 33/100\n",
      "13/13 [==============================] - 2s 116ms/step - loss: 5.0168e-04 - val_loss: 0.0027\n",
      "Epoch 34/100\n",
      "13/13 [==============================] - 1s 115ms/step - loss: 5.2184e-04 - val_loss: 0.0025\n",
      "Epoch 35/100\n",
      "13/13 [==============================] - 2s 120ms/step - loss: 5.1072e-04 - val_loss: 0.0018\n",
      "Epoch 36/100\n",
      "13/13 [==============================] - 1s 113ms/step - loss: 4.8703e-04 - val_loss: 0.0030\n",
      "Epoch 37/100\n",
      "13/13 [==============================] - 1s 114ms/step - loss: 5.2704e-04 - val_loss: 0.0029\n",
      "Epoch 38/100\n",
      "13/13 [==============================] - 2s 117ms/step - loss: 5.4846e-04 - val_loss: 0.0018\n",
      "Epoch 39/100\n",
      "13/13 [==============================] - 2s 120ms/step - loss: 5.6034e-04 - val_loss: 0.0043\n",
      "Epoch 40/100\n",
      "13/13 [==============================] - 1s 115ms/step - loss: 4.8880e-04 - val_loss: 0.0016\n",
      "Epoch 41/100\n",
      "13/13 [==============================] - 2s 116ms/step - loss: 4.5797e-04 - val_loss: 0.0019\n",
      "Epoch 42/100\n",
      "13/13 [==============================] - 2s 115ms/step - loss: 4.3652e-04 - val_loss: 0.0018\n",
      "Epoch 43/100\n",
      "13/13 [==============================] - 2s 117ms/step - loss: 4.2227e-04 - val_loss: 0.0021\n",
      "Epoch 44/100\n",
      "13/13 [==============================] - 1s 115ms/step - loss: 4.2790e-04 - val_loss: 0.0037\n",
      "Epoch 45/100\n",
      "13/13 [==============================] - 2s 117ms/step - loss: 4.6618e-04 - val_loss: 0.0019\n",
      "Epoch 46/100\n",
      "13/13 [==============================] - 2s 132ms/step - loss: 4.1332e-04 - val_loss: 0.0017\n",
      "Epoch 47/100\n",
      "13/13 [==============================] - 2s 120ms/step - loss: 4.7964e-04 - val_loss: 0.0015\n",
      "Epoch 48/100\n",
      "13/13 [==============================] - 2s 120ms/step - loss: 5.1569e-04 - val_loss: 0.0014\n",
      "Epoch 49/100\n",
      "13/13 [==============================] - 2s 144ms/step - loss: 4.7633e-04 - val_loss: 0.0028\n",
      "Epoch 50/100\n",
      "13/13 [==============================] - 2s 135ms/step - loss: 3.7683e-04 - val_loss: 0.0018\n",
      "Epoch 51/100\n",
      "13/13 [==============================] - 2s 122ms/step - loss: 3.6568e-04 - val_loss: 0.0042\n",
      "Epoch 52/100\n",
      "13/13 [==============================] - 2s 131ms/step - loss: 4.0126e-04 - val_loss: 0.0015\n",
      "Epoch 53/100\n",
      "13/13 [==============================] - 2s 118ms/step - loss: 3.6766e-04 - val_loss: 0.0032\n",
      "Epoch 54/100\n",
      "13/13 [==============================] - 2s 119ms/step - loss: 4.1788e-04 - val_loss: 0.0038\n",
      "Epoch 55/100\n",
      "13/13 [==============================] - 2s 127ms/step - loss: 3.9593e-04 - val_loss: 0.0014\n",
      "Epoch 56/100\n",
      "13/13 [==============================] - 2s 119ms/step - loss: 4.7256e-04 - val_loss: 0.0070\n",
      "Epoch 57/100\n",
      "13/13 [==============================] - 2s 121ms/step - loss: 4.1599e-04 - val_loss: 0.0021\n",
      "Epoch 58/100\n",
      "13/13 [==============================] - 2s 123ms/step - loss: 3.7275e-04 - val_loss: 0.0029\n",
      "Epoch 59/100\n",
      "13/13 [==============================] - 2s 127ms/step - loss: 3.1922e-04 - val_loss: 0.0027\n",
      "Epoch 60/100\n",
      "13/13 [==============================] - 2s 124ms/step - loss: 3.0549e-04 - val_loss: 0.0026\n",
      "Epoch 61/100\n",
      "13/13 [==============================] - 2s 128ms/step - loss: 3.2501e-04 - val_loss: 0.0028\n",
      "Epoch 62/100\n",
      "13/13 [==============================] - 2s 121ms/step - loss: 3.1537e-04 - val_loss: 0.0013\n",
      "Epoch 63/100\n",
      "13/13 [==============================] - 2s 123ms/step - loss: 3.3143e-04 - val_loss: 0.0029\n",
      "Epoch 64/100\n",
      "13/13 [==============================] - 2s 117ms/step - loss: 4.0087e-04 - val_loss: 0.0019\n",
      "Epoch 65/100\n",
      "13/13 [==============================] - 2s 123ms/step - loss: 3.0459e-04 - val_loss: 0.0012\n",
      "Epoch 66/100\n",
      "13/13 [==============================] - 2s 118ms/step - loss: 3.2011e-04 - val_loss: 0.0036\n",
      "Epoch 67/100\n",
      "13/13 [==============================] - 2s 131ms/step - loss: 3.2262e-04 - val_loss: 0.0012\n",
      "Epoch 68/100\n",
      "13/13 [==============================] - 2s 122ms/step - loss: 3.0934e-04 - val_loss: 0.0024\n",
      "Epoch 69/100\n",
      "13/13 [==============================] - 2s 121ms/step - loss: 2.9451e-04 - val_loss: 0.0014\n",
      "Epoch 70/100\n",
      "13/13 [==============================] - 1s 116ms/step - loss: 2.8037e-04 - val_loss: 0.0017\n",
      "Epoch 71/100\n",
      "13/13 [==============================] - 2s 120ms/step - loss: 2.7971e-04 - val_loss: 0.0013\n",
      "Epoch 72/100\n",
      "13/13 [==============================] - 1s 117ms/step - loss: 2.9001e-04 - val_loss: 0.0029\n",
      "Epoch 73/100\n",
      "13/13 [==============================] - 2s 124ms/step - loss: 2.8918e-04 - val_loss: 0.0014\n",
      "Epoch 74/100\n",
      "13/13 [==============================] - 2s 124ms/step - loss: 2.8030e-04 - val_loss: 0.0011\n",
      "Epoch 75/100\n",
      "13/13 [==============================] - 2s 119ms/step - loss: 2.8529e-04 - val_loss: 0.0010\n",
      "Epoch 76/100\n",
      "13/13 [==============================] - 2s 116ms/step - loss: 3.2201e-04 - val_loss: 0.0022\n",
      "Epoch 77/100\n",
      "13/13 [==============================] - 2s 118ms/step - loss: 2.8890e-04 - val_loss: 0.0030\n",
      "Epoch 78/100\n",
      "13/13 [==============================] - 2s 137ms/step - loss: 2.9195e-04 - val_loss: 0.0016\n",
      "Epoch 79/100\n",
      "13/13 [==============================] - 2s 133ms/step - loss: 2.5476e-04 - val_loss: 0.0019\n",
      "Epoch 80/100\n",
      "13/13 [==============================] - 2s 149ms/step - loss: 2.6159e-04 - val_loss: 0.0033\n",
      "Epoch 81/100\n",
      "13/13 [==============================] - 2s 128ms/step - loss: 4.2133e-04 - val_loss: 0.0014\n",
      "Epoch 82/100\n",
      "13/13 [==============================] - 2s 126ms/step - loss: 2.9064e-04 - val_loss: 0.0014\n",
      "Epoch 83/100\n",
      "13/13 [==============================] - 2s 140ms/step - loss: 2.4747e-04 - val_loss: 0.0024\n",
      "Epoch 84/100\n",
      "13/13 [==============================] - 2s 125ms/step - loss: 2.5228e-04 - val_loss: 9.6758e-04\n",
      "Epoch 85/100\n",
      "13/13 [==============================] - 2s 133ms/step - loss: 2.4499e-04 - val_loss: 0.0020\n",
      "Epoch 86/100\n",
      "13/13 [==============================] - 2s 134ms/step - loss: 2.6364e-04 - val_loss: 0.0031\n",
      "Epoch 87/100\n",
      "13/13 [==============================] - 2s 137ms/step - loss: 3.1575e-04 - val_loss: 9.1456e-04\n",
      "Epoch 88/100\n",
      "13/13 [==============================] - 2s 144ms/step - loss: 2.6731e-04 - val_loss: 0.0014\n",
      "Epoch 89/100\n",
      "13/13 [==============================] - 2s 136ms/step - loss: 2.3528e-04 - val_loss: 8.9733e-04\n",
      "Epoch 90/100\n",
      "13/13 [==============================] - 2s 135ms/step - loss: 2.7101e-04 - val_loss: 0.0022\n",
      "Epoch 91/100\n",
      "13/13 [==============================] - 2s 137ms/step - loss: 2.8442e-04 - val_loss: 0.0040\n",
      "Epoch 92/100\n",
      "13/13 [==============================] - 2s 123ms/step - loss: 3.6845e-04 - val_loss: 9.8265e-04\n",
      "Epoch 93/100\n",
      "13/13 [==============================] - 2s 118ms/step - loss: 3.4813e-04 - val_loss: 0.0013\n",
      "Epoch 94/100\n",
      "13/13 [==============================] - 1s 116ms/step - loss: 2.5087e-04 - val_loss: 0.0031\n",
      "Epoch 95/100\n",
      "13/13 [==============================] - 2s 139ms/step - loss: 2.6179e-04 - val_loss: 0.0011\n",
      "Epoch 96/100\n",
      "13/13 [==============================] - 2s 133ms/step - loss: 2.2203e-04 - val_loss: 0.0013\n",
      "Epoch 97/100\n",
      "13/13 [==============================] - 2s 121ms/step - loss: 2.2139e-04 - val_loss: 8.3224e-04\n",
      "Epoch 98/100\n",
      "13/13 [==============================] - 2s 123ms/step - loss: 2.2877e-04 - val_loss: 0.0019\n",
      "Epoch 99/100\n",
      "13/13 [==============================] - 2s 122ms/step - loss: 2.6435e-04 - val_loss: 0.0016\n",
      "Epoch 100/100\n",
      "13/13 [==============================] - 2s 122ms/step - loss: 2.6094e-04 - val_loss: 8.6923e-04\n"
     ]
    },
    {
     "data": {
      "text/plain": [
       "<keras.callbacks.History at 0x1edc43e1af0>"
      ]
     },
     "execution_count": 35,
     "metadata": {},
     "output_type": "execute_result"
    }
   ],
   "source": [
    "model.fit(x_train,y_train,validation_data=(x_test,y_test), epochs=100,batch_size=64, verbose=1)"
   ]
  },
  {
   "cell_type": "code",
   "execution_count": 36,
   "id": "4419547e",
   "metadata": {},
   "outputs": [],
   "source": [
    "train_predict=model.predict(x_train)\n",
    "test_predict=model.predict(x_test)"
   ]
  },
  {
   "cell_type": "code",
   "execution_count": 37,
   "id": "337e99da",
   "metadata": {},
   "outputs": [],
   "source": [
    "train_predict=scaler.inverse_transform(train_predict)\n",
    "test_predict=scaler.inverse_transform(test_predict)"
   ]
  },
  {
   "cell_type": "code",
   "execution_count": 38,
   "id": "0b2ec0ff",
   "metadata": {},
   "outputs": [
    {
     "data": {
      "text/plain": [
       "0.015121438917115244"
      ]
     },
     "execution_count": 38,
     "metadata": {},
     "output_type": "execute_result"
    }
   ],
   "source": [
    "import math\n",
    "from sklearn.metrics import mean_squared_error\n",
    "math.sqrt(mean_squared_error(y_train,train_predict))"
   ]
  },
  {
   "cell_type": "code",
   "execution_count": 39,
   "id": "a21f5dcb",
   "metadata": {},
   "outputs": [
    {
     "data": {
      "text/plain": [
       "0.029482729455602562"
      ]
     },
     "execution_count": 39,
     "metadata": {},
     "output_type": "execute_result"
    }
   ],
   "source": [
    "math.sqrt(mean_squared_error(y_test,test_predict))"
   ]
  },
  {
   "cell_type": "code",
   "execution_count": 50,
   "id": "26faf417",
   "metadata": {},
   "outputs": [
    {
     "data": {
      "image/png": "[encoded data removed]",
      "text/plain": [
       "<Figure size 432x288 with 1 Axes>"
      ]
     },
     "metadata": {
      "needs_background": "light"
     },
     "output_type": "display_data"
    }
   ],
   "source": [
    "import numpy as np\n",
    "look_back = 100\n",
    "trainpredictplot = np.empty_like(df1)\n",
    "trainpredictplot[:,:] = np.nan\n",
    "trainpredictplot[look_back:len(train_predict)+look_back, :] = train_predict\n",
    "\n",
    "# test prediction for plotting\n",
    "testpredictplot = np.empty_like(df1)\n",
    "testpredictplot[:,:] = np.nan\n",
    "testpredictplot[len(train_predict)+(look_back*2)+1:len(df1)-1, :] = test_predict\n",
    "\n",
    "#ploting prediction\n",
    "plt.plot(scaler.inverse_transform(df1))\n",
    "plt.plot(trainpredictplot)\n",
    "plt.plot(testpredictplot)\n",
    "plt.show()\n",
    "\n",
    "# orange ir train data\n",
    "#green is test data\n",
    "\n",
    "\n",
    "\n"
   ]
  },
  {
   "cell_type": "code",
   "execution_count": null,
   "id": "2fbd9e8f",
   "metadata": {},
   "outputs": [],
   "source": [
    "\n"
   ]
  },
  {
   "cell_type": "code",
   "execution_count": null,
   "id": "c49a9141",
   "metadata": {},
   "outputs": [],
   "source": []
  }
 ],
 "metadata": {
  "kernelspec": {
   "display_name": "Python 3 (ipykernel)",
   "language": "python",
   "name": "python3"
  },
  "language_info": {
   "codemirror_mode": {
    "name": "ipython",
    "version": 3
   },
   "file_extension": ".py",
   "mimetype": "text/x-python",
   "name": "python",
   "nbconvert_exporter": "python",
   "pygments_lexer": "ipython3",
   "version": "3.9.7"
  }
 },
 "nbformat": 4,
 "nbformat_minor": 5
}
